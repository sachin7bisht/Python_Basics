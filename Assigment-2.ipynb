{
 "cells": [
  {
   "cell_type": "markdown",
   "metadata": {},
   "source": [
    "***1. Write a function that inputs a number and prints the multiplication table of that number***\n",
    "\n",
    "\n",
    "    \n"
   ]
  },
  {
   "cell_type": "code",
   "execution_count": 52,
   "metadata": {
    "scrolled": true
   },
   "outputs": [
    {
     "name": "stdout",
     "output_type": "stream",
     "text": [
      "enter the number8\n",
      "8 * 1 = 8\n",
      "8 * 2 = 16\n",
      "8 * 3 = 24\n",
      "8 * 4 = 32\n",
      "8 * 5 = 40\n",
      "8 * 6 = 48\n",
      "8 * 7 = 56\n",
      "8 * 8 = 64\n",
      "8 * 9 = 72\n",
      "8 * 10 = 80\n"
     ]
    }
   ],
   "source": [
    "num=int(input('enter the number = '))\n",
    "for i in range(10): #multiplication of table from 1 to 10\n",
    "    if i==10: \n",
    "        break   \n",
    "    else:\n",
    "        print(num,'*',i+1,'=',num*(i+1))"
   ]
  },
  {
   "cell_type": "markdown",
   "metadata": {},
   "source": [
    "***Write a program to print twin primes less than 1000. If two consecutive odd numbers are\n",
    " both prime then they are known as twin primes***\n"
   ]
  },
  {
   "cell_type": "code",
   "execution_count": 797,
   "metadata": {},
   "outputs": [
    {
     "name": "stdout",
     "output_type": "stream",
     "text": [
      "twin primes less than 1000 =  [[3, 5], [5, 7]]\n"
     ]
    }
   ],
   "source": [
    "def prime(num): #function to check for prime number\n",
    "    mark=False\n",
    "    if num==2 or num==3:\n",
    "        return 1\n",
    "    else:\n",
    "        for a in range(2,num):\n",
    "            if (num%a==0):\n",
    "                mark=False\n",
    "                break\n",
    "            else:\n",
    "                mark=True\n",
    "    if mark==True:\n",
    "        return 1\n",
    "    else:\n",
    "        return 0\n",
    "\n",
    "        \n",
    "temp=[]\n",
    "for a in range(1,10):\n",
    "    temp2=[]\n",
    "    if prime(a)==1 and prime(a+2)==1:    #check if 2 consecutive number are prime number or not\n",
    "        temp2.append(a)\n",
    "        temp2.append(a+2)\n",
    "        temp.append(temp2)   #list inside a list\n",
    "print(\"twin primes less than 1000 = \",temp)\n"
   ]
  },
  {
   "cell_type": "markdown",
   "metadata": {},
   "source": [
    "*** Write a program to find out the prime factors of a number. Example: prime factors of 56 -\n",
    " 2, 2, 2, 7 ***   \n",
    "        "
   ]
  },
  {
   "cell_type": "code",
   "execution_count": 805,
   "metadata": {},
   "outputs": [
    {
     "name": "stdout",
     "output_type": "stream",
     "text": [
      "enter the num66\n",
      "prime factors of 66 are  [2, 3, 11]\n"
     ]
    }
   ],
   "source": [
    "num=int(input('enter the num'))\n",
    "a=num            #saving num value in a\n",
    "def prime(num): #function to check for prime number\n",
    "    mark=False\n",
    "    if num==2 or num==3:\n",
    "        return 1\n",
    "    else:\n",
    "        for a in range(2,num):\n",
    "            if (num%a==0):\n",
    "                mark=False\n",
    "                break\n",
    "            else:\n",
    "                mark=True\n",
    "    if mark==True:\n",
    "        return 1\n",
    "    else:\n",
    "        return 0\n",
    "\n",
    "temp=[]\n",
    "while num>=1:        #looping till number is equal to 1\n",
    "    if prime(num)==0:   #if number is non prime than enter the condition\n",
    "        for b in range(2,num):\n",
    "            if prime(b)==1 and num%b==0:   #if number satifies both condition then add to list\n",
    "                temp.append(b)\n",
    "                break\n",
    "    else:\n",
    "        temp.append(num)\n",
    "        break\n",
    "    num=num//b #floor division of number after every cycle\n",
    "print(\"prime factors of {} are \".format(a),temp)\n",
    "        \n",
    "    "
   ]
  },
  {
   "cell_type": "markdown",
   "metadata": {},
   "source": [
    "*** Write a program to implement these formulae of permutations and combinations.\n",
    "Number of permutations of n objects taken r at a time:     p(n, r) = n! / (n-r)!. Number of\n",
    "combinations of n objects taken r at a time is: c(n, r) = n! / (r!*(n-r)!) = p(n,r) / r! ***\n"
   ]
  },
  {
   "cell_type": "code",
   "execution_count": 699,
   "metadata": {},
   "outputs": [
    {
     "name": "stdout",
     "output_type": "stream",
     "text": [
      " enter the object 9\n",
      " enter objects to be taken at a time5\n",
      "select opotion \n",
      " 1.Permutation  \n",
      " 2.Combination \n",
      " 1\n",
      "Permutation of 9 objects and 5 taken at a time is =  15120.0\n"
     ]
    }
   ],
   "source": [
    "n=int(input(\" enter the object \"))\n",
    "r=int(input(' enter objects to be taken at a time'))\n",
    "a=int(input('select opotion \\n 1.Permutation  \\n 2.Combination \\n '))\n",
    "\n",
    "def fact(n):   #function for factorial \n",
    "    if n==1:\n",
    "        return 1\n",
    "    else:\n",
    "        return (n*fact(n-1))\n",
    "def per(n,r):   #function for Permutation\n",
    "     return(fact(n)/fact(n-r))\n",
    "\n",
    "if (a==1 )  :\n",
    "    q=per(n,r)    #calling permutation function\n",
    "    print('Permutation of {0} objects and {1} taken at a time is = '.format(n,r),q)\n",
    "else:\n",
    "    q=per(n,r)/fact(r)     #combination = permutation / factorial of number\n",
    "    print('Combination of {0} objects and {1} taken at a time is = '.format(n,r),q)"
   ]
  },
  {
   "cell_type": "markdown",
   "metadata": {},
   "source": [
    "***Write a function that converts a decimal number to binary number ***"
   ]
  },
  {
   "cell_type": "code",
   "execution_count": 700,
   "metadata": {},
   "outputs": [
    {
     "name": "stdout",
     "output_type": "stream",
     "text": [
      "enter the number = 123\n",
      "Binary number of 123 is [1, 1, 1, 1, 0, 1, 1]\n"
     ]
    }
   ],
   "source": [
    "num=int(input('enter the number = '))\n",
    "num_1=num\n",
    "temp=1\n",
    "a=[]\n",
    "while num>=1:\n",
    "    if num!=1 or num!=0:\n",
    "        temp=num%2\n",
    "        num=num//2\n",
    "    else:\n",
    "        continue\n",
    "    a.append(temp)\n",
    "q=a.reverse()\n",
    "print(\"Binary number of {} is\".format(num_1),a)\n",
    "        "
   ]
  },
  {
   "cell_type": "markdown",
   "metadata": {},
   "source": [
    "*** Write a function cubesum() that accepts an integer and returns the sum of the cubes of\n",
    "individual digits of that number. Use this function to make functions PrintArmstrong() and\n",
    "isArmstrong() to print Armstrong numbers and to find whether is an Armstrong number. ***"
   ]
  },
  {
   "cell_type": "code",
   "execution_count": 701,
   "metadata": {},
   "outputs": [
    {
     "name": "stdout",
     "output_type": "stream",
     "text": [
      "enter the number = 1234\n",
      "sum of the cube of each number is = 64\n",
      "number 1234 is not armstrong\n"
     ]
    }
   ],
   "source": [
    "def cubesum(num):   #function for the sum of cube of each digit\n",
    "    sum=0\n",
    "    while num >=1:   #looping till number runsdown to 1\n",
    "        a=num%10\n",
    "        sum=sum+(a**3)\n",
    "        num=num//10\n",
    "        return(sum)  #returning the sum of cubes of digits\n",
    "\n",
    "num=int(input('enter the number = '))\n",
    "print('sum of the cube of each number is =',cubesum(num))\n",
    "q=cubesum(num)\n",
    "if num==q:      #checking if the number is armstrong\n",
    "    print(\"number {} is armstrong\".format(num))\n",
    "else:\n",
    "    print(\"number {} is not armstrong\".format(num))"
   ]
  },
  {
   "cell_type": "markdown",
   "metadata": {},
   "source": [
    "*** Write a function prodDigits() that inputs a number and returns the product of digits of that\n",
    "number. ***"
   ]
  },
  {
   "cell_type": "code",
   "execution_count": 703,
   "metadata": {},
   "outputs": [
    {
     "name": "stdout",
     "output_type": "stream",
     "text": [
      "enter the number = 123\n",
      "Product of the number 123 digits is = 6\n"
     ]
    }
   ],
   "source": [
    "\n",
    "def prodDigits(num):\n",
    "    temp=0\n",
    "    a=1\n",
    "    while num >=1:   #looping till number runsdown to 1\n",
    "        temp=num%10 \n",
    "        a=a*temp\n",
    "        num=num//10  \n",
    "    return (a) #returning the product of the digits\n",
    "        \n",
    "        \n",
    "num=int(input('enter the number = '))\n",
    "print(\"Product of the number {} digits is =\".format(num),prodDigits(num))\n"
   ]
  },
  {
   "cell_type": "markdown",
   "metadata": {},
   "source": [
    "***If all digits of a number n are multiplied by each other repeating with the product, the one\n",
    "digit number obtained at last is called the multiplicative digital root of n. The number of\n",
    "times digits need to be multiplied to reach one digit is called the multiplicative\n",
    "persistance of n.\n",
    "Example: 86 -> 48 -> 32 -> 6 (MDR 6, MPersistence 3)\n",
    " 341 -> 12->2 (MDR 2, MPersistence 2)\n",
    "Using the function prodDigits() of previous exercise write functions MDR() and\n",
    "MPersistence() that input a number and return its multiplicative digital root and\n",
    "multiplicative persistence respectively ***\n"
   ]
  },
  {
   "cell_type": "code",
   "execution_count": 561,
   "metadata": {},
   "outputs": [
    {
     "name": "stdout",
     "output_type": "stream",
     "text": [
      "enter the number86\n",
      "MPersistence 3\n",
      "MDR 6\n"
     ]
    }
   ],
   "source": [
    "def prodDigits(num):    #function for the product of the digits\n",
    "    temp=0\n",
    "    a=1\n",
    "    while num >=1:\n",
    "        temp=num%10 \n",
    "        a=a*temp\n",
    "        num=num//10\n",
    "    return (a)   #returning the product of digits\n",
    "\n",
    "\n",
    "def MDR(num):    #function for MDR of number\n",
    "    if num >9:    #if number is greater than 9 then start the loop otherwise return the value \n",
    "        while num>9:\n",
    "            num=prodDigits(num)   #calling the function for product of digits\n",
    "    else :\n",
    "        return num    #returning if number is less than 9\n",
    "    return num        #returning if number is greater than 9\n",
    "    \n",
    "def MPersistence(num):  #funtion for Persistence of number\n",
    "    rep=0\n",
    "    if num<9: #if number is less than 9 return 0 as there is no repetation\n",
    "        return 0\n",
    "    else:\n",
    "         if num>9:  #if number is greater than 9 \n",
    "            while num>9:\n",
    "                num=prodDigits(num) #callting the function of product of munber\n",
    "                rep+=1              #adding 1 for every time loop is running\n",
    "    return(rep)\n",
    "num=int(input('enter the number'))\n",
    "print('MPersistence = ',MPersistence(num))\n",
    "print('MDR = ',MDR(num))\n"
   ]
  },
  {
   "cell_type": "markdown",
   "metadata": {},
   "source": [
    "*** Write a function sumPdivisors() that finds the sum of proper divisors of a number. Proper\n",
    "divisors of a number are those numbers by which the number is divisible, except the\n",
    "number itself. For example proper divisors of 36 are 1, 2, 3, 4, 6, 9, 18 ***"
   ]
  },
  {
   "cell_type": "code",
   "execution_count": 825,
   "metadata": {},
   "outputs": [
    {
     "name": "stdout",
     "output_type": "stream",
     "text": [
      "entr the number8\n",
      "sum of proper divisors of 8 is  7\n"
     ]
    }
   ],
   "source": [
    "def sumPdivisors(num): #function for sum of divisors\n",
    "    lst=[]\n",
    "    for a in range(1,num):\n",
    "        if num%a==0:    #checking if number is divisible \n",
    "            lst.append(a)\n",
    "    q=sum(lst)\n",
    "    return(q)\n",
    "num=int(input('entr the number'))\n",
    "print('sum of proper divisors of {} is ' .format(num),sumPdivisors(num))\n"
   ]
  },
  {
   "cell_type": "markdown",
   "metadata": {},
   "source": [
    "*** A number is called perfect if the sum of proper divisors of that number is equal to the\n",
    "number. For example 28 is perfect number, since 1+2+4+7+14=28. Write a program to\n",
    "print all the perfect numbers in a given range ***\n"
   ]
  },
  {
   "cell_type": "code",
   "execution_count": 674,
   "metadata": {},
   "outputs": [
    {
     "name": "stdout",
     "output_type": "stream",
     "text": [
      "entr the range = 1000\n",
      "Perfect number in the range are =  [6, 28, 496]\n"
     ]
    }
   ],
   "source": [
    "r=int(input('entr the range = '))\n",
    "def sumdivisors(num):\n",
    "    lst=[]                         #dividing number from  1 to floor division of number\n",
    "    for a in range(1,num//2+1):    # adding 1 as loop runs from n-1\n",
    "        if num%a==0:             \n",
    "            lst.append(a)         #adding divisors to the list \n",
    "        else:\n",
    "            continue\n",
    "    return(sum(lst))             #returning the sum of the divisors \n",
    "lst_1=[]       \n",
    "for a in range(1,r+1):\n",
    "    if a==sumdivisors(a):        #checking if sum and number are same\n",
    "        lst_1.append(a) \n",
    "    else:\n",
    "        continue\n",
    "print('Perfect number in the range are = ',lst_1)"
   ]
  },
  {
   "cell_type": "markdown",
   "metadata": {},
   "source": [
    " *** Two different numbers are called amicable numbers if the sum of the proper divisors of\n",
    "each is equal to the other number. For example 220 and 284 are amicable numbers.\n",
    "Sum of proper divisors of 220 = 1+2+4+5+10+11+20+22+44+55+110 = 284\n",
    "Sum of proper divisors of 284 = 1+2+4+71+142 = 220\n",
    "Write a function to print pairs of amicable numbers in a range ***"
   ]
  },
  {
   "cell_type": "code",
   "execution_count": 29,
   "metadata": {},
   "outputs": [
    {
     "name": "stdout",
     "output_type": "stream",
     "text": [
      "enter the range300\n",
      "amicable numbers in a range are  [220, 284]\n"
     ]
    }
   ],
   "source": [
    "r=int(input('enter the range'))\n",
    "lst_1=[]\n",
    "def sumPdivisors(num): #function for sum of divisors\n",
    "    lst=[]\n",
    "    for a in range(1,num):\n",
    "        if num%a==0:    #checking divisors of number\n",
    "            lst.append(a)\n",
    "    q=sum(lst)\n",
    "    return(q)\n",
    "\n",
    "for i in range(r+1):\n",
    "    for j in range(r+1):\n",
    "        if (j!=i):           #check for number to be exclusive of itself   \n",
    "            if sumPdivisors(i)==j and sumPdivisors(j)==i:\n",
    "                lst_1.append(i)\n",
    "            else:\n",
    "                continue\n",
    "        else:   \n",
    "            continue\n",
    "        \n",
    "print('amicable numbers in a range are ',lst_1)\n",
    "    "
   ]
  },
  {
   "cell_type": "markdown",
   "metadata": {},
   "source": [
    " *** Write a program which can filter odd numbers in a list by using filter function ***"
   ]
  },
  {
   "cell_type": "code",
   "execution_count": null,
   "metadata": {},
   "outputs": [],
   "source": [
    "lst=[1,2,3,4,5,6,7,8,9]\n",
    "def odd(num):\n",
    "    return(num%2!=0)   #return number if not divisible by 2\n",
    "new_lst=list(filter(odd,lst))  \n",
    "print(new_lst)"
   ]
  },
  {
   "cell_type": "markdown",
   "metadata": {},
   "source": [
    "*** Write a program which can map() to make a list whose elements are cube of elements in\n",
    "a given list ***"
   ]
  },
  {
   "cell_type": "code",
   "execution_count": 160,
   "metadata": {},
   "outputs": [
    {
     "name": "stdout",
     "output_type": "stream",
     "text": [
      "[1, 8, 27, 64, 125, 216, 343, 512, 729]\n"
     ]
    }
   ],
   "source": [
    "lst=[1,2,3,4,5,6,7,8,9]\n",
    "def cube(num):\n",
    "    return (num**3)   #returnng cube of the argument\n",
    "new_lst=list(map(cube,lst))\n",
    "print(new_lst)"
   ]
  },
  {
   "cell_type": "markdown",
   "metadata": {},
   "source": [
    "*** Write a program which can map() and filter() to make a list whose elements are cube of\n",
    "even number in a given list ***"
   ]
  },
  {
   "cell_type": "code",
   "execution_count": 169,
   "metadata": {},
   "outputs": [
    {
     "name": "stdout",
     "output_type": "stream",
     "text": [
      "[8, 64, 216, 512]\n"
     ]
    }
   ],
   "source": [
    "lst=[1,2,3,4,5,6,7,8,9]\n",
    "def cube(num):    \n",
    "    return(num**3)     #funtion to convert cube of input value\n",
    "def even(num):\n",
    "    return (num%2==0)   #function for returning even numbers in a list\n",
    "new_lst=list(filter(even,lst))  #filtering even number from list\n",
    "new_lst=list(map(cube,new_lst))  #cube to the fitered value\n",
    "print(new_lst)"
   ]
  }
 ],
 "metadata": {
  "kernelspec": {
   "display_name": "Python 3",
   "language": "python",
   "name": "python3"
  },
  "language_info": {
   "codemirror_mode": {
    "name": "ipython",
    "version": 3
   },
   "file_extension": ".py",
   "mimetype": "text/x-python",
   "name": "python",
   "nbconvert_exporter": "python",
   "pygments_lexer": "ipython3",
   "version": "3.7.4"
  }
 },
 "nbformat": 4,
 "nbformat_minor": 2
}
